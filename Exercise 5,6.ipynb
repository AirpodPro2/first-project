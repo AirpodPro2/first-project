{
 "cells": [
  {
   "cell_type": "code",
   "execution_count": null,
   "id": "63772ff7",
   "metadata": {},
   "outputs": [],
   "source": [
    "#5.3\n",
    "list1=[3,5,7]\n",
    "list2=[2,3,4,5,6]\n",
    "for x in list1:\n",
    "    for y in list2:\n",
    "        print(x,\"*\",y,' =',x*y)"
   ]
  },
  {
   "cell_type": "code",
   "execution_count": null,
   "id": "2e02fa80",
   "metadata": {},
   "outputs": [],
   "source": [
    "#5.4\n",
    "a=[2,3,4,5,6]\n",
    "print(a)\n",
    "rev_a=list()\n",
    "for num in a:\n",
    "    rev_a.append(a.pop())\n",
    "print(rev_a)"
   ]
  },
  {
   "cell_type": "code",
   "execution_count": 3,
   "id": "d9620c93",
   "metadata": {},
   "outputs": [
    {
     "name": "stdout",
     "output_type": "stream",
     "text": [
      "5개의 수를 입력하세요1 2 3 4 5\n",
      "합 : 15\n",
      "평균 : 3.0\n",
      "최댓값 : 5\n",
      "최솟값 : 1\n"
     ]
    }
   ],
   "source": [
    "#5.11\n",
    "nums=list(map(int,input('5개의 수를 입력하세요').split()))\n",
    "print('합 :',sum(nums))\n",
    "print('평균 :',sum(nums)/len(nums))\n",
    "print('최댓값 :',max(nums))\n",
    "print('최솟값 :',min(nums))"
   ]
  },
  {
   "cell_type": "code",
   "execution_count": 8,
   "id": "b5e5c2d2",
   "metadata": {},
   "outputs": [
    {
     "name": "stdout",
     "output_type": "stream",
     "text": [
      "10개의 수를 입력하세요 : 1 2 3 4 5 6 7 8 9 10\n",
      "합 : 55\n",
      "평균 : 5.5\n",
      "표준편차 : 2.8722813232690143\n"
     ]
    }
   ],
   "source": [
    "#5.13\n",
    "import math\n",
    "nums=list(map(int,input('10개의 수를 입력하세요 : ').split()))\n",
    "print('합 :',sum(nums))\n",
    "average=sum(nums)/len(nums)\n",
    "print('평균 :',average)\n",
    "sd=0#표준편차\n",
    "for num in nums:\n",
    "    sd+=math.pow((num-average),2)\n",
    "sd/=10\n",
    "sd=math.sqrt(sd)\n",
    "print('표준편차 :',sd)\n"
   ]
  },
  {
   "cell_type": "code",
   "execution_count": 12,
   "id": "3ca924f0",
   "metadata": {},
   "outputs": [
    {
     "name": "stdout",
     "output_type": "stream",
     "text": [
      "abc\n",
      "bcdefg\n",
      "abc bcd opq "
     ]
    }
   ],
   "source": [
    "#5.18\n",
    "s_list=['abc','bcd','bcdefg','abba','cddc','opq']\n",
    "min_len=len(s_list[0])\n",
    "max_len=0\n",
    "ans1=s_list[0]\n",
    "for str in s_list:\n",
    "    if min_len >len(str):\n",
    "        min_len=len(str)\n",
    "        ans1=str\n",
    "    if max_len <len(str):\n",
    "        max_len=len(str);\n",
    "        ans2=str\n",
    "print(ans1)#길이가 가장 짧은 문자열\n",
    "print(ans2)#길이가 가장 긴 문자열\n",
    "print('길이가 가장 짧은 문자열 : ')\n",
    "s_list.sort(key=len)\n",
    "min_len=len(s_list[0])\n",
    "for str in s_list:\n",
    "    if len(str)==min_len:\n",
    "        print(str,end=' ')#길이가 가장 짧은 문자열들"
   ]
  },
  {
   "cell_type": "code",
   "execution_count": 2,
   "id": "1b72f0e3",
   "metadata": {},
   "outputs": [
    {
     "name": "stdout",
     "output_type": "stream",
     "text": [
      "['abc', 'abba', 'opq', 'bcd', 'cddc']\n"
     ]
    }
   ],
   "source": [
    "#5.19\n",
    "s_list=['abc','bcd','abc','abba','cddc','opq','opq']\n",
    "s_list=set(s_list)\n",
    "new_s_list=list(s_list)\n",
    "print(new_s_list)"
   ]
  },
  {
   "cell_type": "code",
   "execution_count": 11,
   "id": "7a9ffe2d",
   "metadata": {},
   "outputs": [
    {
     "ename": "TypeError",
     "evalue": "'tuple' object does not support item assignment",
     "output_type": "error",
     "traceback": [
      "\u001b[1;31m---------------------------------------------------------------------------\u001b[0m",
      "\u001b[1;31mTypeError\u001b[0m                                 Traceback (most recent call last)",
      "Input \u001b[1;32mIn [11]\u001b[0m, in \u001b[0;36m<cell line: 3>\u001b[1;34m()\u001b[0m\n\u001b[0;32m      1\u001b[0m \u001b[38;5;66;03m#6.4\u001b[39;00m\n\u001b[0;32m      2\u001b[0m t\u001b[38;5;241m=\u001b[39m(\u001b[38;5;241m10\u001b[39m,\u001b[38;5;241m20\u001b[39m,\u001b[38;5;241m30\u001b[39m,\u001b[38;5;241m40\u001b[39m)\n\u001b[1;32m----> 3\u001b[0m t[\u001b[38;5;241m0\u001b[39m]\u001b[38;5;241m=\u001b[39m\u001b[38;5;241m0\u001b[39m\n\u001b[0;32m      4\u001b[0m t\u001b[38;5;241m.\u001b[39mappend(\u001b[38;5;241m50\u001b[39m)\u001b[38;5;66;03m#tuple형에 append로 요소 추가 불가능\u001b[39;00m\n\u001b[0;32m      5\u001b[0m t\u001b[38;5;241m.\u001b[39mremove(\u001b[38;5;241m40\u001b[39m)\n",
      "\u001b[1;31mTypeError\u001b[0m: 'tuple' object does not support item assignment"
     ]
    }
   ],
   "source": [
    "#6.4\n",
    "t=(10,20,30,40)\n",
    "t[0]=0#tuple형에 요소 할당 불가능\n",
    "t.append(50)#tuple형에 append로 요소 추가 불가능\n",
    "t.remove(40)#tuple형에 remove로 요소 제거 불가능\n"
   ]
  },
  {
   "cell_type": "code",
   "execution_count": 13,
   "id": "e6c3ea57",
   "metadata": {},
   "outputs": [
    {
     "data": {
      "text/plain": [
       "('a', 'b', 'c', 'd', 'e')"
      ]
     },
     "execution_count": 13,
     "metadata": {},
     "output_type": "execute_result"
    }
   ],
   "source": [
    "#6.6\n",
    "t1='a','b','c'\n",
    "t2=('a','b','c')\n",
    "t1==t2#True\n",
    "t3=('d','e')\n",
    "t2+t3#('a','b','c','d','e')"
   ]
  },
  {
   "cell_type": "code",
   "execution_count": 14,
   "id": "f0cc378a",
   "metadata": {},
   "outputs": [
    {
     "name": "stdout",
     "output_type": "stream",
     "text": [
      "지난 10일동안 전일대비 매출이 감소한 날은 3 일 입니다\n"
     ]
    }
   ],
   "source": [
    "#6.7\n",
    "sales=(100,121,120,130,140,120,122,123,190,125)\n",
    "cnt=0#answer\n",
    "for i in range(1,10):\n",
    "    if sales[i] <sales[i-1]:\n",
    "        cnt+=1\n",
    "print('지난 10일동안 전일대비 매출이 감소한 날은',cnt,'일 입니다')"
   ]
  },
  {
   "cell_type": "code",
   "execution_count": 32,
   "id": "83d5d488",
   "metadata": {},
   "outputs": [
    {
     "name": "stdout",
     "output_type": "stream",
     "text": [
      "1 단계 : [5, 6, 9, 2, 12, 13, 8, 7] [31]\n",
      "2 단계 : [5, 6, 9, 2, 12, 8, 7] [13, 31]\n",
      "3 단계 : [5, 6, 9, 2, 8, 7] [12, 13, 31]\n",
      "4 단계 : [5, 6, 2, 8, 7] [9, 12, 13, 31]\n",
      "5 단계 : [5, 6, 2, 7] [8, 9, 12, 13, 31]\n",
      "6 단계 : [5, 6, 2] [7, 8, 9, 12, 13, 31]\n",
      "7 단계 : [5, 2] [6, 7, 8, 9, 12, 13, 31]\n",
      "8 단계 : [2] [5, 6, 7, 8, 9, 12, 13, 31]\n",
      "정렬 된 리스트 : [2, 5, 6, 7, 8, 9, 12, 13, 31]\n"
     ]
    }
   ],
   "source": [
    "#6.14\n",
    "arr=[5,6,31,9,2,12,13,8,7]\n",
    "sorted_list=[]\n",
    "i=1\n",
    "while(sorted_list !=sorted(arr)):\n",
    "    sorted_list.append((max(arr)))\n",
    "    arr.remove(max(arr))\n",
    "    sorted_list.sort()\n",
    "    if(arr==list()):\n",
    "        print(\"정렬 된 리스트 :\",sorted_list)\n",
    "        break\n",
    "    print(i,\"단계 :\",arr,sorted_list)\n",
    "    i+=1"
   ]
  },
  {
   "cell_type": "code",
   "execution_count": 35,
   "id": "c708ca95",
   "metadata": {},
   "outputs": [
    {
     "name": "stdout",
     "output_type": "stream",
     "text": [
      "{3, 4, 5}\n",
      "{0, 1, 2, 3, 4, 5, 6, 7}\n",
      "{6, 7}\n",
      "{0, 1, 2}\n",
      "{0, 1, 2, 6, 7}\n",
      "True\n"
     ]
    }
   ],
   "source": [
    "#6.19\n",
    "s1={0,1,2,3,4,5}\n",
    "s2={3,4,5,6,7}\n",
    "print(s1&s2)#{3,4,5} intersection\n",
    "print(s1|s2)#{0,1,2,3,4,5,6,7} union\n",
    "print(s2-s1)#difference {6,7}\n",
    "print(s1-s2)#difference {0,1,2}\n",
    "print(s1^s2)#symmetric difference {0,1,2,6,7}\n",
    "print(2 in s1)#True"
   ]
  }
 ],
 "metadata": {
  "kernelspec": {
   "display_name": "Python 3 (ipykernel)",
   "language": "python",
   "name": "python3"
  },
  "language_info": {
   "codemirror_mode": {
    "name": "ipython",
    "version": 3
   },
   "file_extension": ".py",
   "mimetype": "text/x-python",
   "name": "python",
   "nbconvert_exporter": "python",
   "pygments_lexer": "ipython3",
   "version": "3.9.12"
  }
 },
 "nbformat": 4,
 "nbformat_minor": 5
}
