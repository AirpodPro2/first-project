{
 "cells": [
  {
   "cell_type": "code",
   "execution_count": 4,
   "id": "52d24497",
   "metadata": {},
   "outputs": [
    {
     "name": "stdout",
     "output_type": "stream",
     "text": [
      "[0 1 2 3 4 5 6 7 8 9]\n",
      "[0 1 2 3 4 5 6 7 8 9]\n",
      "[0 2 4 6 8]\n",
      "c.shape = (5,)\n",
      "c.ndim = 1\n",
      "c.dtype = int32\n",
      "c.size = 5\n",
      "c.itemsize = 4\n"
     ]
    }
   ],
   "source": [
    "#LAB 11\n",
    "#1-1\n",
    "import numpy as np\n",
    "a=np.array([0,1,2,3,4,5,6,7,8,9])\n",
    "print(a)\n",
    "\n",
    "#1-2\n",
    "b=np.array([i for i in range(10)])\n",
    "print(b)\n",
    "\n",
    "#1-3\n",
    "c=np.array(range(0,10,2))\n",
    "print(c)\n",
    "\n",
    "#1-4\n",
    "print('c.shape =',c.shape)\n",
    "print('c.ndim =',c.ndim)\n",
    "print('c.dtype =',c.dtype)\n",
    "print('c.size =',c.size)\n",
    "print('c.itemsize =',c.itemsize)"
   ]
  },
  {
   "cell_type": "code",
   "execution_count": 7,
   "id": "6c0184c1",
   "metadata": {},
   "outputs": [
    {
     "name": "stdout",
     "output_type": "stream",
     "text": [
      "[23 45 67  7  2 30 34 82]\n",
      "최댓값 : 82\n",
      "최솟값 : 2\n",
      "평균값 : 36.25\n",
      "b = [31 49 86 68 98 90 55 26  0 70]\n",
      "최댓값 : 98\n",
      "최솟값 : 0\n",
      "평균값 : 57.3\n",
      "c = [23 45 67  7  2 30 34 82 31 49 86 68 98 90 55 26  0 70]\n"
     ]
    }
   ],
   "source": [
    "#2-1\n",
    "a=np.array([23,45,67,7,2,30,34,82])\n",
    "print(a)\n",
    "print('최댓값 :',a.max())\n",
    "print('최솟값 :',a.min())\n",
    "print('평균값 :',a.mean())\n",
    "\n",
    "#2-2\n",
    "b=np.random.randint(0,99,size=10)\n",
    "print('b =',b)\n",
    "print('최댓값 :',b.max())\n",
    "print('최솟값 :',b.min())\n",
    "print('평균값 :',b.mean())\n",
    "\n",
    "#2-3\n",
    "c=np.append(a,b)\n",
    "print('c =',c)"
   ]
  },
  {
   "cell_type": "code",
   "execution_count": 11,
   "id": "05bf1ff9",
   "metadata": {},
   "outputs": [
    {
     "name": "stdout",
     "output_type": "stream",
     "text": [
      "[[1 2 3]\n",
      " [4 5 6]\n",
      " [7 8 9]]\n",
      "[[2 2 2]\n",
      " [2 2 2]\n",
      " [2 2 2]]\n",
      "=================================\n",
      "[[ 3  4  5]\n",
      " [ 6  7  8]\n",
      " [ 9 10 11]]\n",
      "[[-1  0  1]\n",
      " [ 2  3  4]\n",
      " [ 5  6  7]]\n",
      "[[ 2  4  6]\n",
      " [ 8 10 12]\n",
      " [14 16 18]]\n",
      "[[0.5 1.  1.5]\n",
      " [2.  2.5 3. ]\n",
      " [3.5 4.  4.5]]\n",
      "[[12 12 12]\n",
      " [30 30 30]\n",
      " [48 48 48]]\n",
      "[[ 1  4  9]\n",
      " [16 25 36]\n",
      " [49 64 81]]\n"
     ]
    }
   ],
   "source": [
    "#3-1\n",
    "import numpy as np\n",
    "a=np.array([[1,2,3],[4,5,6],[7,8,9]])\n",
    "b=np.array([[2,2,2],[2,2,2],[2,2,2]])\n",
    "print(a)\n",
    "print(b)\n",
    "print('=================================')\n",
    "#3-2\n",
    "print(a+b)\n",
    "print(a-b)\n",
    "print(a*b)\n",
    "print(a/b)\n",
    "print(a@b)\n",
    "print(a**2)"
   ]
  },
  {
   "cell_type": "code",
   "execution_count": 16,
   "id": "02109ab1",
   "metadata": {},
   "outputs": [
    {
     "name": "stdout",
     "output_type": "stream",
     "text": [
      "[[2 2 2]\n",
      " [2 2 2]\n",
      " [2 2 2]]\n",
      "[ 1  2  3  4  5  6  7  8  9 10 11 12]\n",
      "[ 3  6  9 12 15 18 21 24 27 30 33 36 39 42 45 48]\n",
      "[ 0.  5. 10. 15. 20.]\n"
     ]
    }
   ],
   "source": [
    "#4-1\n",
    "import numpy as np\n",
    "a1=np.full((3,3),2)\n",
    "print(a1)\n",
    "\n",
    "#4-2\n",
    "a2=np.arange(1,12+1)\n",
    "print(a2)\n",
    "\n",
    "#4-3\n",
    "a3=np.arange(3,50+1,3)\n",
    "print(a3)\n",
    "\n",
    "#4-4\n",
    "a4=np.linspace(0,20,5)\n",
    "print(a4)"
   ]
  },
  {
   "cell_type": "code",
   "execution_count": 6,
   "id": "ebeee2b1",
   "metadata": {},
   "outputs": [
    {
     "name": "stdout",
     "output_type": "stream",
     "text": [
      "[[ 1  2  3  4  5  6]\n",
      " [ 7  8  9 10 11 12]]\n",
      "\n",
      "[[ 1  2  3  4  5  6  7  8  9 10]\n",
      " [11 12 13 14 15 16 17 18 19 20]\n",
      " [21 22 23 24 25 26 27 28 29 30]]\n",
      "\n",
      "[[ 1  2  3  4  5]\n",
      " [ 6  7  8  9 10]\n",
      " [11 12 13 14 15]\n",
      " [16 17 18 19 20]\n",
      " [21 22 23 24 25]\n",
      " [26 27 28 29 30]]\n",
      "\n",
      "[[ 1  6 11 16 21 26]\n",
      " [ 2  7 12 17 22 27]\n",
      " [ 3  8 13 18 23 28]\n",
      " [ 4  9 14 19 24 29]\n",
      " [ 5 10 15 20 25 30]]\n"
     ]
    }
   ],
   "source": [
    "#5-1\n",
    "import numpy as np\n",
    "a1=np.arange(1,13)\n",
    "a1=np.arange(1,13).reshape(2,6)\n",
    "print(a1)\n",
    "print()\n",
    "#6-2\n",
    "a2=np.arange(1,31)\n",
    "a2=np.arange(1,31).reshape(3,10)\n",
    "print(a2)\n",
    "print()\n",
    "#5-3\n",
    "a3=np.arange(1,31).reshape(6,5)\n",
    "print(a3)\n",
    "print()\n",
    "#5-4\n",
    "a4=np.transpose(a3)\n",
    "print(a4)"
   ]
  },
  {
   "cell_type": "code",
   "execution_count": 17,
   "id": "41ebb4d1",
   "metadata": {},
   "outputs": [
    {
     "name": "stdout",
     "output_type": "stream",
     "text": [
      "[[65  2 28 64 82]\n",
      " [36 87 62 89 19]\n",
      " [84 16 47 99 41]]\n",
      "a의 열방향 최댓값 : [84 87 62 99 82]\n",
      "a의 열방향 최솟값 : [36  2 28 64 19]\n",
      "a의 열방향 평균 : [61.66666667 35.         45.66666667 84.         47.33333333]\n",
      "a의 행방향 최댓값 : [82 89 99]\n",
      "a의 행방향 최솟값 : [ 2 19 16]\n",
      "a의 행방향 평균  [48.2 58.6 57.4]\n"
     ]
    }
   ],
   "source": [
    "#6-1\n",
    "a=np.random.randint(1,101,size=15)\n",
    "a=a.reshape(3,5)############name=name.reshape(m,n) mxn\n",
    "print(a)\n",
    "#6-2\n",
    "print('a의 열방향 최댓값 :',a.max(axis=0))\n",
    "print('a의 열방향 최솟값 :',a.min(axis=0))\n",
    "print('a의 열방향 평균 :',a.mean(axis=0))\n",
    "#6-3\n",
    "print('a의 행방향 최댓값 :',a.max(axis=1))\n",
    "print('a의 행방향 최솟값 :',a.min(axis=1))\n",
    "print('a의 행방향 평균 ',a.mean(axis=1))"
   ]
  },
  {
   "cell_type": "code",
   "execution_count": 25,
   "id": "eba4f306",
   "metadata": {},
   "outputs": [
    {
     "name": "stdout",
     "output_type": "stream",
     "text": [
      "[ 1  2  3  4  5  6  7  8  9 10]\n",
      "[2 4 6 8]\n",
      "[ 6  7  8  9 10]\n",
      "[ 7  8  9 10]\n",
      "[1 2 3]\n",
      "[1 3 5 7 9]\n",
      "[10  8  6  4  2]\n"
     ]
    }
   ],
   "source": [
    "#7-1\n",
    "a=np.arange(1,11)\n",
    "print(a)\n",
    "b=(a[1:8:2])\n",
    "print(b)\n",
    "\n",
    "#7-2\n",
    "b=a[5:]\n",
    "print(b)\n",
    "c=a[6:]\n",
    "print(c)\n",
    "d=a[:3]\n",
    "print(d)\n",
    "e=a[0::2]\n",
    "print(e)\n",
    "f=a[-1::-2]\n",
    "print(f)"
   ]
  },
  {
   "cell_type": "code",
   "execution_count": 30,
   "id": "306f463e",
   "metadata": {},
   "outputs": [
    {
     "name": "stdout",
     "output_type": "stream",
     "text": [
      "index       elememt\n",
      "(0,0,0)      0\n",
      "(0,0,1)      1\n",
      "(0,1,0)      2\n",
      "(0,1,1)      3\n",
      "(0,2,0)      4\n",
      "(0,2,1)      5\n",
      "(1,0,0)      6\n",
      "(1,0,1)      7\n",
      "(1,1,0)      8\n",
      "(1,1,1)      9\n",
      "(1,2,0)      10\n",
      "(1,2,1)      11\n",
      "(2,0,0)      12\n",
      "(2,0,1)      13\n",
      "(2,1,0)      14\n",
      "(2,1,1)      15\n",
      "(2,2,0)      16\n",
      "(2,2,1)      17\n",
      "(3,0,0)      18\n",
      "(3,0,1)      19\n",
      "(3,1,0)      20\n",
      "(3,1,1)      21\n",
      "(3,2,0)      22\n",
      "(3,2,1)      23\n",
      "[0 1 6 7]\n",
      "[ 0  1 14 15]\n",
      "[[ 0  1]\n",
      " [ 2  3]\n",
      " [ 4  5]\n",
      " [ 6  7]\n",
      " [ 8  9]\n",
      " [10 11]]\n",
      "[[ 0  1  6  7]\n",
      " [ 2  3  8  9]\n",
      " [ 4  5 10 11]]\n"
     ]
    }
   ],
   "source": [
    "#8-1\n",
    "a=np.arange(0,24).reshape(4,3,2)\n",
    "print('index       elememt')\n",
    "for x in range(0,4):\n",
    "    for y in range(0,3):\n",
    "        for z in range(0,2):\n",
    "            print('({},{},{})      {}'.format(x,y,z,a[x][y][z]))\n",
    "            \n",
    "#8-2\n",
    "print(np.concatenate((a[0][0],a[1][0]),axis=0))\n",
    "print(np.concatenate((a[0][0],a[2][1]),axis=0))\n",
    "print(np.concatenate((a[0],a[1]),axis=0))\n",
    "print(np.concatenate((a[0],a[1]),axis=1))#####################################3"
   ]
  },
  {
   "cell_type": "code",
   "execution_count": 9,
   "id": "96269ab0",
   "metadata": {},
   "outputs": [
    {
     "name": "stdout",
     "output_type": "stream",
     "text": [
      "b = [ 1  5  9 13]\n",
      "c=  [ 9 10 11]\n",
      "d = [[0 1]\n",
      " [4 5]]\n",
      "e = [[ 5  6]\n",
      " [ 9 10]]\n",
      "f =  [0 1 2 4 5 6]\n",
      "g =  [ 8  9 10 11 12 13 14 15]\n",
      "h =  [ 5  6  7 13 14 15]\n"
     ]
    }
   ],
   "source": [
    "#9-1\n",
    "import numpy as np\n",
    "a=np.arange(16).reshape(4,4)\n",
    "b=a[:,1]\n",
    "print('b =',b)\n",
    "c=a[2,1:]\n",
    "print('c= ',c)\n",
    "d=a[:2,:2]\n",
    "print('d =',d)\n",
    "e=a[1:3,1:3]\n",
    "print('e =',e)\n",
    "\n",
    "#9-2\n",
    "f=a[:2,:3].flatten()\n",
    "print('f = ',f)\n",
    "g=a[2:,].flatten()\n",
    "print('g = ',g)\n",
    "h=a[1::2,1:].flatten()\n",
    "print('h = ',h)"
   ]
  },
  {
   "cell_type": "code",
   "execution_count": 28,
   "id": "fbc25a78",
   "metadata": {},
   "outputs": [
    {
     "name": "stdout",
     "output_type": "stream",
     "text": [
      "x=1.0 y=2.0 z=3.0\n",
      "det(A) = -11.0\n",
      "det(A) = -11.0\n"
     ]
    }
   ],
   "source": [
    "#10-1\n",
    "a=np.array([[1,1,-1],[2,-1,3],[1,2,1]])\n",
    "b=np.array([0,9,8])\n",
    "(ans)=np.linalg.solve(a,b)\n",
    "print('x={:.1f} y={} z={:.1f}'.format(ans[0],ans[1],ans[2]))\n",
    "#10-2\n",
    "A=np.array([[1,1,-1],[2,-1,3],[1,2,1]],dtype='int32')\n",
    "print('det(A) = {:.1f}'.format(np.linalg.det(A)))\n",
    "#10-3\n",
    "a1 = np.array([[-1, 3], [2, 1]])\n",
    "a2 = np.array([[2, 3], [1, 1]])\n",
    "a3 = np.array([[2, -1], [1, 2]])\n",
    "det = 1 * np.linalg.det(a1) - 1 * np.linalg.det(a2) - 1 * np.linalg.det(a3)\n",
    "print('det(A) = {:4.1f}'.format(det))"
   ]
  }
 ],
 "metadata": {
  "kernelspec": {
   "display_name": "Python 3 (ipykernel)",
   "language": "python",
   "name": "python3"
  },
  "language_info": {
   "codemirror_mode": {
    "name": "ipython",
    "version": 3
   },
   "file_extension": ".py",
   "mimetype": "text/x-python",
   "name": "python",
   "nbconvert_exporter": "python",
   "pygments_lexer": "ipython3",
   "version": "3.9.12"
  }
 },
 "nbformat": 4,
 "nbformat_minor": 5
}
