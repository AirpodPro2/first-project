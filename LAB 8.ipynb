{
 "cells": [
  {
   "cell_type": "code",
   "execution_count": 1,
   "id": "932ecb8e",
   "metadata": {},
   "outputs": [
    {
     "name": "stdout",
     "output_type": "stream",
     "text": [
      "error : list index out of range\n",
      "error : invalid literal for int() with base 10: '20%'\n",
      "error : unsupported operand type(s) for +: 'int' and 'str'\n"
     ]
    }
   ],
   "source": [
    "#LAB8\n",
    "#1-1,1-2\n",
    "try:\n",
    "    a=[10,20,30]\n",
    "    print(a[3])\n",
    "except Exception as e:\n",
    "    print('error :',e)#list index out of range\n",
    "try:\n",
    "    n=int('20%')\n",
    "except Exception as e:\n",
    "    print('error :',e)#invalid literal for int() with base 10:'20%'\n",
    "try:\n",
    "    a=100+'200'\n",
    "except Exception as e:\n",
    "    print('error :',e)#unsupported operand type(s) for + 'int' and 'str'"
   ]
  },
  {
   "cell_type": "code",
   "execution_count": 5,
   "id": "58c650b5",
   "metadata": {},
   "outputs": [
    {
     "name": "stdout",
     "output_type": "stream",
     "text": [
      "0으로 나눔을 시도했습니다\n",
      "정수 x를 입력하세요이백\n",
      "type이 맞지않음\n",
      "파일을 경로에서 찾을수없음\n"
     ]
    }
   ],
   "source": [
    "#2-1\n",
    "try:\n",
    "    print(10*(30/0))\n",
    "except ZeroDivisionError:\n",
    "    print('0으로 나눔을 시도했습니다')\n",
    "try:\n",
    "    x=int(input('정수 x를 입력하세요'))\n",
    "except Exception as e:\n",
    "    print('type이 맞지않음')\n",
    "try:\n",
    "    import sys\n",
    "    f=open('myfile.txt')\n",
    "    s=f.readline()\n",
    "except Exception as e:\n",
    "    print('파일을 경로에서 찾을수없음')"
   ]
  },
  {
   "cell_type": "code",
   "execution_count": 9,
   "id": "2929e34a",
   "metadata": {},
   "outputs": [
    {
     "name": "stdout",
     "output_type": "stream",
     "text": [
      "a의 요소를 하나 선택하세요 :삼\n",
      "입력값이 정수나 실수가 아님\n"
     ]
    }
   ],
   "source": [
    "#3.1,3.2\n",
    "a=[1,2,3,4,5]\n",
    "try:\n",
    "    select=int(input('a의 요소를 하나 선택하세요 :'))\n",
    "except Exception as e:\n",
    "    print('오류 : 입력값이 정수나 실수가 아님')\n",
    "else:\n",
    "    print('{}는 {}번째 요소입니다'.format(select,1+a.index(select)))\n"
   ]
  },
  {
   "cell_type": "code",
   "execution_count": 15,
   "id": "01215cc7",
   "metadata": {},
   "outputs": [],
   "source": [
    "#4.1\n",
    "f=open('numbers.txt','w')\n",
    "f.write('100\\n200\\n300\\n400')\n",
    "f.close()\n",
    "#4.2\n",
    "f=open('we_will_rock.txt','w')\n",
    "f.write('Buddy, you\\'re a boy, make a big noise\\n\\\n",
    "Playing in the street, gonna be a big man someday\\n\\\n",
    "You got mud on your face, you big disgrace\\n\\\n",
    "Kicking your can all over the place, singin\\'\\n\\\n",
    "We will, we weill rock you\\n\\\n",
    "We will, we will rock you')\n",
    "f.close()"
   ]
  },
  {
   "cell_type": "code",
   "execution_count": 16,
   "id": "5e09d564",
   "metadata": {},
   "outputs": [
    {
     "name": "stdout",
     "output_type": "stream",
     "text": [
      "100\n",
      "200\n",
      "300\n",
      "400\n",
      "Buddy, you're a boy, make a big noise\n",
      "Playing in the street, gonna be a big man someday\n",
      "You got mud on your face, you big disgrace\n",
      "Kicking your can all over the place, singin'\n",
      "We will, we weill rock you\n",
      "We will, we will rock you\n"
     ]
    }
   ],
   "source": [
    "#5.1\n",
    "f=open('numbers.txt','r')\n",
    "s=f.readline().rstrip()\n",
    "print(s)\n",
    "s=f.readline().rstrip()\n",
    "print(s)\n",
    "s=f.readline().rstrip()\n",
    "print(s)\n",
    "s=f.readline().rstrip()\n",
    "print(s)\n",
    "#5.2\n",
    "f=open('we_will_rock.txt','r')\n",
    "s=f.readline().rstrip()\n",
    "print(s)\n",
    "s=f.readline().rstrip()\n",
    "print(s)\n",
    "s=f.readline().rstrip()\n",
    "print(s)\n",
    "s=f.readline().rstrip()\n",
    "print(s)\n",
    "s=f.readline().rstrip()\n",
    "print(s)\n",
    "s=f.readline().rstrip()\n",
    "print(s)"
   ]
  },
  {
   "cell_type": "code",
   "execution_count": 30,
   "id": "1978b158",
   "metadata": {},
   "outputs": [
    {
     "name": "stdout",
     "output_type": "stream",
     "text": [
      "입력할 파일의 이름 :we_will_rock.txt\n",
      "BUDDY, YOU'RE A BOY, MAKE A BIG NOISE\n",
      "PLAYING IN THE STREET, GONNA BE A BIG MAN SOMEDAY\n",
      "YOU GOT MUD ON YOUR FACE, YOU BIG DISGRACE\n",
      "KICKING YOUR CAN ALL OVER THE PLACE, SINGIN'\n",
      "WE WILL, WE WEILL ROCK YOU\n",
      "WE WILL, WE WILL ROCK YOU\n",
      "파일 이름을 입력하세요 : we_will_rock.txt\n",
      "We will, we will rock you\n",
      "We will, we weill rock you\n",
      "Kicking your can all over the place, singin'\n",
      "You got mud on your face, you big disgrace\n",
      "Playing in the street, gonna be a big man someday\n",
      "Buddy, you're a boy, make a big noise\n"
     ]
    }
   ],
   "source": [
    "#6.1\n",
    "fname=input('입력할 파일의 이름 :')\n",
    "f=open(fname,'r')\n",
    "str=\"\"\n",
    "for _ in range(6):\n",
    "    s=f.readline().rstrip()\n",
    "    print(s.upper())\n",
    "    str+=s.upper()+\"\\n\"\n",
    "f.close()\n",
    "\n",
    "f=open(fname+\"_upper.txt\",'w')\n",
    "f.write(str)\n",
    "f.close()\n",
    "\n",
    "#6.2\n",
    "fname=input('파일 이름을 입력하세요 : ')\n",
    "f=open(fname,'r')\n",
    "str=list()\n",
    "for _ in range(6):\n",
    "    str.insert(0,f.readline().rstrip())\n",
    "for i in range(6):\n",
    "    print(str[i])\n",
    "f.close()"
   ]
  },
  {
   "cell_type": "code",
   "execution_count": null,
   "id": "646d7467",
   "metadata": {},
   "outputs": [],
   "source": []
  },
  {
   "cell_type": "code",
   "execution_count": null,
   "id": "07aaa845",
   "metadata": {},
   "outputs": [],
   "source": []
  },
  {
   "cell_type": "code",
   "execution_count": null,
   "id": "88c9f60d",
   "metadata": {},
   "outputs": [],
   "source": []
  }
 ],
 "metadata": {
  "kernelspec": {
   "display_name": "Python 3 (ipykernel)",
   "language": "python",
   "name": "python3"
  },
  "language_info": {
   "codemirror_mode": {
    "name": "ipython",
    "version": 3
   },
   "file_extension": ".py",
   "mimetype": "text/x-python",
   "name": "python",
   "nbconvert_exporter": "python",
   "pygments_lexer": "ipython3",
   "version": "3.9.12"
  }
 },
 "nbformat": 4,
 "nbformat_minor": 5
}
