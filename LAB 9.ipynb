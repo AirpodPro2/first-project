{
 "cells": [
  {
   "cell_type": "code",
   "execution_count": 4,
   "id": "e1874ec3",
   "metadata": {},
   "outputs": [
    {
     "name": "stdout",
     "output_type": "stream",
     "text": [
      "100\n",
      "20000\n",
      "2.0\n",
      "40\n"
     ]
    },
    {
     "data": {
      "text/plain": [
       "['__add__',\n",
       " '__class__',\n",
       " '__class_getitem__',\n",
       " '__contains__',\n",
       " '__delattr__',\n",
       " '__delitem__',\n",
       " '__dir__',\n",
       " '__doc__',\n",
       " '__eq__',\n",
       " '__format__',\n",
       " '__ge__',\n",
       " '__getattribute__',\n",
       " '__getitem__',\n",
       " '__gt__',\n",
       " '__hash__',\n",
       " '__iadd__',\n",
       " '__imul__',\n",
       " '__init__',\n",
       " '__init_subclass__',\n",
       " '__iter__',\n",
       " '__le__',\n",
       " '__len__',\n",
       " '__lt__',\n",
       " '__mul__',\n",
       " '__ne__',\n",
       " '__new__',\n",
       " '__reduce__',\n",
       " '__reduce_ex__',\n",
       " '__repr__',\n",
       " '__reversed__',\n",
       " '__rmul__',\n",
       " '__setattr__',\n",
       " '__setitem__',\n",
       " '__sizeof__',\n",
       " '__str__',\n",
       " '__subclasshook__',\n",
       " 'append',\n",
       " 'clear',\n",
       " 'copy',\n",
       " 'count',\n",
       " 'extend',\n",
       " 'index',\n",
       " 'insert',\n",
       " 'pop',\n",
       " 'remove',\n",
       " 'reverse',\n",
       " 'sort']"
      ]
     },
     "execution_count": 4,
     "metadata": {},
     "output_type": "execute_result"
    }
   ],
   "source": [
    "#LAB 9\n",
    "#1-1\n",
    "print((200).__sub__(100))\n",
    "print((200).__mul__(100))\n",
    "print((200).__truediv__(100))\n",
    "#1-2\n",
    "print([10,20,30,40].pop())\n",
    "#1-3\n",
    "#keys()\n",
    "#1-4\n",
    "dir(int)\n",
    "#1-5\n",
    "dir(list)"
   ]
  },
  {
   "cell_type": "code",
   "execution_count": null,
   "id": "dd527f52",
   "metadata": {},
   "outputs": [],
   "source": [
    "#2-1\n",
    "#용어 정의\n",
    "#객체 지향 프로그래밍 : 클래스는 속성과 행위를 가지고, 객체를 만들어서 프로그램에 적용\n",
    "#절차적 지향 프로그래밍 : 단순히 순서대로 명령을 수행하는 것이 아닌, 프로시저 호출의 개념을 바탕으로 하는 구조적 프로그래밍\n",
    "#그래픽 사용자 인터페이스 : 윈도우시스템,아이콘,메뉴 등의 요소에 의해 구성되는 컴퓨터 조직환경\n",
    "\n",
    "#2-2\n",
    "#객체 지향과 절차 지향 프로그래밍 차이점 : 절차지향은 데이터 중심으로 함수 구현, 객체 지향은 기능을 중심으로 메서드 구현"
   ]
  },
  {
   "cell_type": "code",
   "execution_count": 5,
   "id": "1cc5acbe",
   "metadata": {},
   "outputs": [],
   "source": [
    "#3-1\n",
    "#용어 정의\n",
    "#클래스 : 프로그램에서 사용되는 속성과 행위를 모아 놓은 집합\n",
    "#객체 : 어떠한 속성값과 행동을 가지고 있는 데이터\n",
    "#인스턴스 : 클래스로부터 만들어지는 개별적인 객체\n",
    "#클래스 속성 : 클래스 내부의 메서드 단계와 동일한 영역에 위치한 변수\n",
    "#클래스 동작 : 클래스가 할 수 있는 동작"
   ]
  },
  {
   "cell_type": "code",
   "execution_count": 2,
   "id": "f9575e7f",
   "metadata": {},
   "outputs": [
    {
     "name": "stdout",
     "output_type": "stream",
     "text": [
      "멍멍\n"
     ]
    }
   ],
   "source": [
    "#4-1\n",
    "class Dog:\n",
    "    def bark(self):\n",
    "        return '멍멍'\n",
    "my_dog=Dog()\n",
    "print(my_dog.bark())"
   ]
  },
  {
   "cell_type": "code",
   "execution_count": 1,
   "id": "b05ea827",
   "metadata": {},
   "outputs": [
    {
     "name": "stdout",
     "output_type": "stream",
     "text": [
      "멍멍~~\n"
     ]
    }
   ],
   "source": [
    "#5-1\n",
    "class Dog:\n",
    "    def __init__(self,name):\n",
    "        self.name=name\n",
    "    def bark(self):\n",
    "        print('멍멍~~')\n",
    "my_dog=Dog('Jindo')\n",
    "my_dog.bark()"
   ]
  },
  {
   "cell_type": "code",
   "execution_count": null,
   "id": "f663da19",
   "metadata": {},
   "outputs": [
    {
     "name": "stdout",
     "output_type": "stream",
     "text": [
      "my_dog의 정보 : Dog(name = self.name)\n"
     ]
    }
   ],
   "source": [
    "#6-1\n",
    "class Dog:\n",
    "    def __init__(self,name):\n",
    "        self.name=name\n",
    "    def __str__(self):\n",
    "        return 'my_dog의 정보 : Dog(name = {})'.format(self.name)\n",
    "my_dog=Dog('Jindo')\n",
    "print(my_dog.__str__())"
   ]
  },
  {
   "cell_type": "code",
   "execution_count": 6,
   "id": "d2605261",
   "metadata": {},
   "outputs": [
    {
     "name": "stdout",
     "output_type": "stream",
     "text": [
      "n is m\n"
     ]
    }
   ],
   "source": [
    "#7-1\n",
    "n=100\n",
    "m=100\n",
    "if n is m:\n",
    "    print('n is m')\n",
    "else:\n",
    "    print('n is not m')\n",
    "#res = n is m\n",
    "#python은 정수 256까지는 이미 해당값이 존재하면 기존의 객체를 바인딩하게 하기때문이다"
   ]
  },
  {
   "cell_type": "code",
   "execution_count": null,
   "id": "d77077b6",
   "metadata": {},
   "outputs": [
    {
     "name": "stdout",
     "output_type": "stream",
     "text": [
      "v1 * v2 = (300,800)\n",
      "v1 / v2 = (3.0,2.0)\n",
      "-v1 = (-10,-20)\n"
     ]
    }
   ],
   "source": [
    "#8-1\n",
    "'''v1=(30,40)\n",
    "v2=(10,20)\n",
    "\n",
    "print('v1 * v2 = ({},{})'.format((v1[0]).__mul__(v2[0]),(v1[1].__mul__(v2[1]))))\n",
    "print('v1 / v2 = ({},{})'.format((v1[0]).__truediv__(v2[0]),(v1[1].__truediv__(v2[1]))))'''\n",
    "class Vector2D:\n",
    "    def __init__(self,x,y):\n",
    "        self.x=x\n",
    "        self.y=y\n",
    "    def __mul__(self,other):\n",
    "        return Vector2D(self.x*other.x,self.y*other.y)\n",
    "    def __truediv__(self,other):\n",
    "        return Vector2D(self.x/other.x,self.y/other.y)\n",
    "    def __neg__(self):\n",
    "        return Vector2D(-self.x,-self.y)\n",
    "    def __str__(self):\n",
    "        return \"({},{})\".format(self.x,self.y)\n",
    "v1=Vector2D(30,40)\n",
    "v2=Vector2D(10,20)\n",
    "print((v1).__mul__(v2))\n",
    "print((v1).__truediv__(v2))\n",
    "\n",
    "#8-2\n",
    "v1=Vector2D(10,20)\n",
    "print(v1.__neg__())"
   ]
  },
  {
   "cell_type": "code",
   "execution_count": 16,
   "id": "5b6aead1",
   "metadata": {},
   "outputs": [
    {
     "name": "stdout",
     "output_type": "stream",
     "text": [
      "v1 > v2 = True\n",
      "v1 >= v2 = True\n",
      "v1 < v2 = False\n",
      "v1 <= v2 False\n"
     ]
    }
   ],
   "source": [
    "#9-1\n",
    "v1=(30,40)\n",
    "v2=(10,20)\n",
    "print('v1 > v2 = {}'.format( (v1).__gt__(v2)))\n",
    "print('v1 >= v2 = {}'.format( (v1).__ge__(v2)))\n",
    "print('v1 < v2 = {}'.format( (v1).__lt__(v2)))\n",
    "print('v1 <= v2 {}'.format( (v1).__le__(v2)))"
   ]
  },
  {
   "cell_type": "code",
   "execution_count": 18,
   "id": "2a7aa40b",
   "metadata": {
    "scrolled": true
   },
   "outputs": [
    {
     "name": "stdout",
     "output_type": "stream",
     "text": [
      "{'width': 100, 'height': 200}\n",
      "100\n",
      "{'_Rect__width': 100, '_Rect__height': 200}\n",
      "100\n"
     ]
    }
   ],
   "source": [
    "#10-1\n",
    "class Rect:\n",
    "    def __init__(self,width,height):\n",
    "        self.width=width\n",
    "        self.height=height\n",
    "r1=Rect(100,200)\n",
    "print(r1.__dict__)#{'width': 100, 'height': 200}\n",
    "print(r1.__dict__['width'])#100\n",
    "\n",
    "#10-2\n",
    "class Rect:\n",
    "    def __init__(self,width,height):\n",
    "        self.__width=width\n",
    "        self.__height=height\n",
    "r1=Rect(100,200)\n",
    "print(r1.__dict__)#{'_Rect__width': 100, '_Rect__height': 200}\n",
    "print(r1.__dict__['_Rect__width'])#100"
   ]
  }
 ],
 "metadata": {
  "kernelspec": {
   "display_name": "Python 3 (ipykernel)",
   "language": "python",
   "name": "python3"
  },
  "language_info": {
   "codemirror_mode": {
    "name": "ipython",
    "version": 3
   },
   "file_extension": ".py",
   "mimetype": "text/x-python",
   "name": "python",
   "nbconvert_exporter": "python",
   "pygments_lexer": "ipython3",
   "version": "3.9.12"
  }
 },
 "nbformat": 4,
 "nbformat_minor": 5
}
