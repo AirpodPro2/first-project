{
 "cells": [
  {
   "cell_type": "code",
   "execution_count": 2,
   "id": "4953ce2d",
   "metadata": {},
   "outputs": [
    {
     "name": "stdout",
     "output_type": "stream",
     "text": [
      "200 - 100 = 100\n",
      "200 - 100 = 100\n"
     ]
    }
   ],
   "source": [
    "#LAB\n",
    "#1-1\n",
    "a=200\n",
    "b=100\n",
    "def sub(x,y):\n",
    "    return x-y\n",
    "print('{} - {} = {}'.format(a,b,sub(a,b)))\n",
    "#1-2\n",
    "sub=lambda x,y:x-y\n",
    "print('{} - {} = {}'.format(a,b,sub(a,b)))"
   ]
  },
  {
   "cell_type": "code",
   "execution_count": 9,
   "id": "25526a72",
   "metadata": {},
   "outputs": [
    {
     "name": "stdout",
     "output_type": "stream",
     "text": [
      "[2, 4, 6, 8, 10]\n",
      "[2, 4, 6, 8, 10]\n",
      "[1, 3, 5, 7, 9]\n",
      "[1, 3, 5, 7, 9]\n"
     ]
    }
   ],
   "source": [
    "#2-1\n",
    "n_list=[1,2,3,4,5,6,7,8,9,10]\n",
    "new_list=list(filter(lambda x:x%2==0,n_list))\n",
    "print(new_list)\n",
    "\n",
    "even_list=list()\n",
    "for a in filter(lambda x:(x%2==0),n_list):\n",
    "    even_list.append(a)\n",
    "print(even_list)\n",
    "\n",
    "#2-2\n",
    "odd_list=list()\n",
    "for num in n_list:\n",
    "    if num%2:odd_list.append(num)\n",
    "print(odd_list)\n",
    "\n",
    "odd2_list=list(filter(lambda x:x%2,n_list))\n",
    "print(odd2_list)"
   ]
  },
  {
   "cell_type": "code",
   "execution_count": 22,
   "id": "d7fdffaa",
   "metadata": {},
   "outputs": [
    {
     "name": "stdout",
     "output_type": "stream",
     "text": [
      "['A', 'B', 'C', 'D']\n",
      "['A', 'B', 'C', 'D']\n",
      "[20, 40, 60]\n",
      "[30, 60, 90]\n",
      "[20, 40, 60]\n",
      "[30, 60, 90]\n"
     ]
    }
   ],
   "source": [
    "#3-1\n",
    "def to_upper(str):\n",
    "    return str.upper()\n",
    "a_list=['a','b','c','d']\n",
    "for i in range(len(a_list)):\n",
    "    a_list[i]=to_upper(a_list[i])\n",
    "print(a_list)\n",
    "\n",
    "a_list=['a','b','c','d']\n",
    "upper_a_list=list(map(lambda x:x.upper(),a_list))\n",
    "print(upper_a_list)\n",
    "\n",
    "#3-2\n",
    "n_list=[10,20,30]\n",
    "def twice(x):\n",
    "    return x*2\n",
    "def triple(x):\n",
    "    return x*3\n",
    "a_list=list(map(twice,n_list))\n",
    "b_list=list(map(triple,n_list))\n",
    "print(a_list)\n",
    "print(b_list)\n",
    "\n",
    "a_list=list(map(lambda x:x*2,n_list))\n",
    "b_list=list(map(lambda x:x*3,n_list))\n",
    "print(a_list)\n",
    "print(b_list)"
   ]
  },
  {
   "cell_type": "code",
   "execution_count": 26,
   "id": "935472ec",
   "metadata": {},
   "outputs": [
    {
     "name": "stdout",
     "output_type": "stream",
     "text": [
      "1에서 100까지의 합 : 5050\n",
      "10! = 3628800\n"
     ]
    }
   ],
   "source": [
    "#4-1\n",
    "from functools import reduce\n",
    "print('1에서 100까지의 합 : {}'.format(reduce(lambda x,y:x+y,range(1,101))))\n",
    "#4-2\n",
    "print('10! = {}'.format(reduce(lambda x,y:x*y,range(1,11))))"
   ]
  },
  {
   "cell_type": "code",
   "execution_count": 37,
   "id": "90cc2d6e",
   "metadata": {},
   "outputs": [
    {
     "name": "stdout",
     "output_type": "stream",
     "text": [
      "cublic =  [1, 8, 27, 64, 125, 216, 343, 512, 729, 1000]\n",
      "['welcome', 'to', 'the', 'python', 'world']\n",
      "first_a = ['w', 't', 't', 'p', 'w']\n"
     ]
    }
   ],
   "source": [
    "#5-1\n",
    "cublic = [x**3 for x in range(1,10+1)]\n",
    "print('cublic = ',cublic)\n",
    "#5-2\n",
    "a=['welcome','to','the','python','world']\n",
    "print(a)\n",
    "first_a=list(x[0] for x in a)\n",
    "print('first_a =',first_a)"
   ]
  },
  {
   "cell_type": "code",
   "execution_count": 39,
   "id": "0c2c1fe3",
   "metadata": {},
   "outputs": [
    {
     "name": "stdout",
     "output_type": "stream",
     "text": [
      "cublic = [1, 8, 27, 64, 125, 216, 343]\n",
      "['1', '2', '3', '4']\n"
     ]
    }
   ],
   "source": [
    "#6-1\n",
    "cublic = [x**3 for x in range(1,10+1) if x**3<=500]\n",
    "print('cublic =',cublic)\n",
    "#6-2\n",
    "st='Hello 1234 Python'\n",
    "digit=[n for n in st if n.isdigit()]\n",
    "print(digit)"
   ]
  },
  {
   "cell_type": "code",
   "execution_count": 58,
   "id": "299f9dc0",
   "metadata": {},
   "outputs": [
    {
     "name": "stdout",
     "output_type": "stream",
     "text": [
      "0 2 4 6 8 \n",
      "0 2 4 6 8 10 12 14 16 18 20 "
     ]
    }
   ],
   "source": [
    "#7-1\n",
    "class EvenCounter:\n",
    "    def __init__(self,n=0):\n",
    "        self.n=n\n",
    "    def __iter__(self):\n",
    "        return self\n",
    "    def __next__(self):\n",
    "        if(self.n<=20):\n",
    "            t=self.n\n",
    "            self.n+=2\n",
    "            return t\n",
    "        raise StopIteration\n",
    "    \n",
    "my_even=EvenCounter()\n",
    "for x in my_even:\n",
    "    if(x<10):\n",
    "        print(x,end=' ')\n",
    "#7-2\n",
    "print('')\n",
    "my_even=EvenCounter()\n",
    "for x in my_even:\n",
    "    if(x<=20):\n",
    "        print(x,end=' ') "
   ]
  },
  {
   "cell_type": "code",
   "execution_count": 51,
   "id": "3bc40bb3",
   "metadata": {},
   "outputs": [
    {
     "name": "stdout",
     "output_type": "stream",
     "text": [
      "['Hello', ' My name is DongMin', 'Good to see you again']\n"
     ]
    },
    {
     "data": {
      "text/plain": [
       "['Apple', 'Banana', 'Melon', 'Orange']"
      ]
     },
     "execution_count": 51,
     "metadata": {},
     "output_type": "execute_result"
    }
   ],
   "source": [
    "#8-1\n",
    "txt=\"Welcome to Busan Metropolitan City\"\n",
    "txt.split()#['Welcome', 'to', 'Busan', 'Metropolitan', 'City']\n",
    "#8-2\n",
    "greet=\"Hello, My name is DongMin,Good to see you again\"\n",
    "print(greet.split(','))#['Hello', ' My name is DongMin', 'Good to see you again']\n",
    "#8-3\n",
    "fruits='Apple|Banana|Melon|Orange'\n",
    "fruits.split('|')#['Apple', 'Banana', 'Melon', 'Orange']"
   ]
  },
  {
   "cell_type": "code",
   "execution_count": null,
   "id": "1374a0a7",
   "metadata": {},
   "outputs": [],
   "source": []
  }
 ],
 "metadata": {
  "kernelspec": {
   "display_name": "Python 3 (ipykernel)",
   "language": "python",
   "name": "python3"
  },
  "language_info": {
   "codemirror_mode": {
    "name": "ipython",
    "version": 3
   },
   "file_extension": ".py",
   "mimetype": "text/x-python",
   "name": "python",
   "nbconvert_exporter": "python",
   "pygments_lexer": "ipython3",
   "version": "3.9.12"
  }
 },
 "nbformat": 4,
 "nbformat_minor": 5
}
