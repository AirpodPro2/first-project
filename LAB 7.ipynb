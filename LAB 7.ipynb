{
 "cells": [
  {
   "cell_type": "code",
   "execution_count": 19,
   "id": "cd2cc221",
   "metadata": {},
   "outputs": [
    {
     "name": "stdout",
     "output_type": "stream",
     "text": [
      "오늘의 날짜 : 2022 년 10 월 19 일\n",
      "현재시간 : 오후 1 시 33 분 0 초\n"
     ]
    }
   ],
   "source": [
    "#1\n",
    "import datetime as dt\n",
    "today=dt.datetime.today()\n",
    "print('오늘의 날짜 :',today.year,'년',today.month,'월',today.day,'일')\n",
    "today=dt.datetime.now()\n",
    "if(today.hour>=12):\n",
    "    print('현재시간 : 오후',today.hour%12,'시',today.minute,'분',today.second\\\n",
    "          //3600,'초')\n",
    "else:\n",
    "     print('현재시간 : 오후',today.hour,'시',today.minute,'분',today.second\\\n",
    "           //3600,'초')"
   ]
  },
  {
   "cell_type": "code",
   "execution_count": 20,
   "id": "1a3e619c",
   "metadata": {},
   "outputs": [
    {
     "name": "stdout",
     "output_type": "stream",
     "text": [
      "오늘은 2022 년 10 월 19 일입니다\n",
      "2025년 크리스마스 까지는 1162 일 22 시간 남았습니다\n",
      "오늘은 2022년 10월 19일입니다\n",
      "2036년 새해 까지는 4821일 22시간 남았습니다\n",
      "오늘은 2022년 10월 19일입니다\n",
      "2023년 생일까지는 152일 22시간 남았습니다.\n"
     ]
    }
   ],
   "source": [
    "#2.1\n",
    "print('오늘은',today.year,'년',today.month,'월',today.day,'일입니다')\n",
    "xMas=dt.datetime(2025,12,25)\n",
    "time_gap=xMas-dt.datetime.now()\n",
    "print('2025년 크리스마스 까지는',time_gap.days,'일',time_gap.seconds//3600,\\\n",
    "      '시간 남았습니다')\n",
    "#2.2\n",
    "D_day=dt.datetime(2036,1,1)\n",
    "print('오늘은 {}년 {}월 {}일입니다'.format(today.year,today.month,today.day))\n",
    "time_gap=D_day-today\n",
    "print('2036년 새해 까지는 {}일 {}시간 남았습니다'.format(time_gap.days,\\\n",
    "                                           time_gap.seconds//3600))\n",
    "#2.3\n",
    "print('오늘은 {}년 {}월 {}일입니다'.format(today.year,today.month,today.day))\n",
    "D_day=dt.datetime(2023,3,21)\n",
    "time_gap=D_day-today\n",
    "print('2023년 생일까지는 {}일 {}시간 남았습니다.'.format(time_gap.days,\\\n",
    "                                           time_gap.seconds//3600))"
   ]
  },
  {
   "cell_type": "code",
   "execution_count": 21,
   "id": "3f6869c5",
   "metadata": {},
   "outputs": [
    {
     "name": "stdout",
     "output_type": "stream",
     "text": [
      "1997-05-19 00:00:00\n"
     ]
    }
   ],
   "source": [
    "#내가 태어난지 10000일 되는 날짜는?\n",
    "birthday=dt.datetime(1970,1,1)\n",
    "gap=dt.timedelta(days=10000)\n",
    "ans=birthday+gap\n",
    "print(ans)"
   ]
  },
  {
   "cell_type": "code",
   "execution_count": 22,
   "id": "f1a97d36",
   "metadata": {},
   "outputs": [
    {
     "name": "stdout",
     "output_type": "stream",
     "text": [
      "오늘 날짜로부터 1000일 후는 2025-07-15 01:33:53.336816 입니다\n",
      "처음으로 사귄 연도와,월,일 입력하세요2000 1 1\n",
      "100일 기념일은 : 2000년 4월 9일입니다.\n"
     ]
    }
   ],
   "source": [
    "#3.1\n",
    "days1000=dt.timedelta(days=1000)\n",
    "ans=days1000+today\n",
    "print('오늘 날짜로부터 1000일 후는',ans,'입니다')\n",
    "#3.2\n",
    "year,month,day=map(int,input('처음으로 사귄 연도와,월,일 입력하세요').split())\n",
    "start_day=dt.datetime(year,month,day)\n",
    "days99= dt.timedelta(days=99)\n",
    "D_day=days99+start_day\n",
    "print('100일 기념일은 : {}년 {}월 {}일입니다.'.format(D_day.year,D_day.month,\\\n",
    "                                           D_day.day))"
   ]
  },
  {
   "cell_type": "code",
   "execution_count": 23,
   "id": "152474dc",
   "metadata": {},
   "outputs": [
    {
     "name": "stdout",
     "output_type": "stream",
     "text": [
      "4** 2=      16.0\n",
      "4** 3=      64.0\n",
      "4** 4=     256.0\n",
      "4** 5=    1024.0\n",
      "4** 6=    4096.0\n",
      "4** 7=   16384.0\n",
      "4** 8=   65536.0\n",
      "4** 9=  262144.0\n",
      "4** 10= 1048576.0\n",
      "0 degree = 0.000 radian\n",
      "10 degree = 0.175 radian\n",
      "20 degree = 0.349 radian\n",
      "30 degree = 0.524 radian\n",
      "40 degree = 0.698 radian\n",
      "50 degree = 0.873 radian\n",
      "60 degree = 1.047 radian\n",
      "70 degree = 1.222 radian\n",
      "80 degree = 1.396 radian\n",
      "90 degree = 1.571 radian\n",
      "100 degree = 1.745 radian\n",
      "110 degree = 1.920 radian\n",
      "120 degree = 2.094 radian\n",
      "130 degree = 2.269 radian\n",
      "140 degree = 2.443 radian\n",
      "150 degree = 2.618 radian\n",
      "160 degree = 2.793 radian\n",
      "170 degree = 2.967 radian\n",
      "180 degree = 3.142 radian\n",
      "sin(   0) = 0.00\n",
      "sin(  10) = 0.17\n",
      "sin(  20) = 0.34\n",
      "sin(  30) = 0.50\n",
      "sin(  40) = 0.64\n",
      "sin(  50) = 0.77\n",
      "sin(  60) = 0.87\n",
      "sin(  70) = 0.94\n",
      "sin(  80) = 0.98\n",
      "sin(  90) = 1.00\n",
      "sin( 100) = 0.98\n",
      "sin( 110) = 0.94\n",
      "sin( 120) = 0.87\n",
      "sin( 130) = 0.77\n",
      "sin( 140) = 0.64\n",
      "sin( 150) = 0.50\n",
      "sin( 160) = 0.34\n",
      "sin( 170) = 0.17\n",
      "sin( 180) = 0.00\n"
     ]
    }
   ],
   "source": [
    "#4.1\n",
    "import math\n",
    "for i in range(2,11):\n",
    "    print('4** {0}={1:10.1f}'.format(i,math.pow(4,i)))\n",
    "#4.2\n",
    "for i in range(0,180+1,10):\n",
    "    try:\n",
    "        print(i,'degree = {0:05.3f} radian'.format((i*(math.pi))/180))\n",
    "    except:\n",
    "        print(i,'degree = {0:05.3f} radian'.format(0.000))\n",
    "#4.3\n",
    "for i in range(0,180+1,10):\n",
    "    print('sin({0:4d}) = {1:04.2f}'.format(i,math.sin(i*math.pi/180)))\n",
    "        "
   ]
  },
  {
   "cell_type": "code",
   "execution_count": 24,
   "id": "61c0c538",
   "metadata": {},
   "outputs": [
    {
     "name": "stdout",
     "output_type": "stream",
     "text": [
      "a:3, b=5,b가 이김\n"
     ]
    }
   ],
   "source": [
    "#DICE GAME\n",
    "import random as rd\n",
    "\n",
    "while(True):\n",
    "    a=rd.randrange(1,7)\n",
    "    b=rd.randrange(1,7)\n",
    "    if(a<b):\n",
    "        print('a:{}, b={},b가 이김'.format(a,b))\n",
    "        break\n",
    "    elif(a==b):\n",
    "        print('a={} ,b={} 비김'.format(a,b))\n",
    "        \n",
    "    else:\n",
    "        print('a={} ,b={}, a가 이김'.format(a,b))\n",
    "        break"
   ]
  },
  {
   "cell_type": "code",
   "execution_count": 25,
   "id": "7ddf518f",
   "metadata": {},
   "outputs": [
    {
     "name": "stdout",
     "output_type": "stream",
     "text": [
      "0~100이하 정수 중에서 5의 배수\n",
      "[85, 55, 90]\n",
      "1에서 10 사이의 임의의 정수 : [2, 8, 9]\n"
     ]
    }
   ],
   "source": [
    "#5.1\n",
    "import random as rd\n",
    "print('0~100이하 정수 중에서 5의 배수')\n",
    "arr=list()\n",
    "for _ in range(3):\n",
    "    arr.append(rd.randrange(0,105,5))\n",
    "print(arr)\n",
    "#5.2\n",
    "import random as rd\n",
    "arr=list(range(1,11))\n",
    "print('1에서 10 사이의 임의의 정수 :',rd.sample(arr,3))"
   ]
  },
  {
   "cell_type": "code",
   "execution_count": 26,
   "id": "5c70503e",
   "metadata": {},
   "outputs": [
    {
     "name": "stdout",
     "output_type": "stream",
     "text": [
      "lotto : [3, 5, 13, 24, 28, 30]\n",
      "[1, 2, 3, 4, 5, 6, 7, 8, 9]\n"
     ]
    }
   ],
   "source": [
    "#lotto\n",
    "lottos=list(range(1,46))\n",
    "rd.shuffle(lottos)\n",
    "output=list()\n",
    "for i in range(6):\n",
    "    output.append(lottos[i])\n",
    "output.sort()\n",
    "print('lotto :',output)\n",
    "\n",
    "#quiz\n",
    "arr=[1,2,3,7,8,9]\n",
    "for i in range(9):\n",
    "    if(arr[i]!=i+1):\n",
    "        arr.insert(i,i+1)\n",
    "print(arr)"
   ]
  },
  {
   "cell_type": "code",
   "execution_count": 27,
   "id": "8e778b00",
   "metadata": {},
   "outputs": [
    {
     "name": "stdout",
     "output_type": "stream",
     "text": [
      "이번 주의 추천 로또번호\n",
      "[4, 6, 23, 24, 30, 34]\n",
      "[4, 5, 11, 22, 26, 41]\n",
      "[15, 21, 24, 28, 35, 42]\n",
      "[10, 20, 23, 27, 33, 39]\n",
      "[4, 26, 28, 29, 37, 41]\n",
      "이번 주의 당첨 로또번호 + 보너스\n",
      "[5, 16, 21, 30, 35, 36] + [38]\n"
     ]
    }
   ],
   "source": [
    "#6.1\n",
    "import random\n",
    "print('이번 주의 추천 로또번호')\n",
    "for _ in range(5):\n",
    "    lotto_list=list(range(1,46))\n",
    "    lotto_list=random.sample(lotto_list,6)\n",
    "    lotto_list.sort()\n",
    "    print(lotto_list)\n",
    "#6.2\n",
    "print('이번 주의 당첨 로또번호 + 보너스')\n",
    "lotto_list=list(range(1,46))\n",
    "bonus=random.sample(lotto_list,1)\n",
    "lotto_list=random.sample(lotto_list,6)\n",
    "lotto_list.sort()\n",
    "print(lotto_list,'+',bonus)"
   ]
  }
 ],
 "metadata": {
  "kernelspec": {
   "display_name": "Python 3 (ipykernel)",
   "language": "python",
   "name": "python3"
  },
  "language_info": {
   "codemirror_mode": {
    "name": "ipython",
    "version": 3
   },
   "file_extension": ".py",
   "mimetype": "text/x-python",
   "name": "python",
   "nbconvert_exporter": "python",
   "pygments_lexer": "ipython3",
   "version": "3.9.12"
  }
 },
 "nbformat": 4,
 "nbformat_minor": 5
}
